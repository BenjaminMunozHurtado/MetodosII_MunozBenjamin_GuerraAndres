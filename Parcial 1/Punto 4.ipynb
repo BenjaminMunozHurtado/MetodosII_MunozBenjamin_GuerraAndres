{
 "cells": [
  {
   "cell_type": "code",
   "execution_count": 1,
   "metadata": {},
   "outputs": [],
   "source": [
    "\t\n",
    "import numpy as np\n",
    "import matplotlib.pyplot as plt\n",
    "from scipy import integrate"
   ]
  },
  {
   "cell_type": "code",
   "execution_count": 2,
   "metadata": {},
   "outputs": [],
   "source": [
    "g = 9.81\n",
    "L=1"
   ]
  },
  {
   "cell_type": "code",
   "execution_count": 3,
   "metadata": {},
   "outputs": [],
   "source": [
    "h = 0.01\n",
    "t = np.arange(0,3+h,h)"
   ]
  },
  {
   "cell_type": "code",
   "execution_count": 4,
   "metadata": {},
   "outputs": [],
   "source": [
    "def Integrator2(f, r0, t):\n",
    "    h = t[1] - t[0]\n",
    "\n",
    "    theta = np.zeros_like(t)\n",
    "    omega = np.zeros_like(t)\n",
    "\n",
    "    theta[0] = r0[0]\n",
    "    omega[0] = r0[1]\n",
    "\n",
    "    K1 = np.zeros(2)\n",
    "    K2 = np.zeros(2)\n",
    "\n",
    "    for i in range(1, len(t)):\n",
    "        R = np.array([theta[i - 1], omega[i - 1]])\n",
    "        K1 = f(R, t[i - 1])\n",
    "\n",
    "        R = np.array([theta[i - 1] + h * K1[0], omega[i - 1] + h * K1[1]])\n",
    "        K2 = f(R, t[i - 1] + h)\n",
    "\n",
    "        theta[i] = theta[i - 1] + 0.5 * h * (K1[0] + K2[0])\n",
    "        omega[i] = omega[i - 1] + 0.5 * h * (K1[1] + K2[1])\n",
    "\n",
    "    return theta, omega, t"
   ]
  },
  {
   "cell_type": "code",
   "execution_count": null,
   "metadata": {},
   "outputs": [],
   "source": []
  },
  {
   "cell_type": "code",
   "execution_count": 19,
   "metadata": {},
   "outputs": [],
   "source": [
    "def System(r,v):\n",
    "    \n",
    "    theta,omega = r\n",
    "    \n",
    "    dthetadt = omega\n",
    "    dvthetadt = ((2*(g/L)-(dthetadt**2)*np.cos(theta))*np.sin(theta))/((1/3)+((np.sin(theta))**2))\n",
    "    \n",
    "    return [dthetadt,dvthetadt]"
   ]
  },
  {
   "cell_type": "code",
   "execution_count": 84,
   "metadata": {},
   "outputs": [
    {
     "name": "stdout",
     "output_type": "stream",
     "text": [
      "El tiempo que se demora es 0.52\n"
     ]
    }
   ],
   "source": [
    "r0 = [np.radians(10), 0]\n",
    "sistema = Integrator2(System, r0, t)\n",
    "thetas=sistema[0]\n",
    "\n",
    "x=[]\n",
    "y=[]\n",
    "i=0\n",
    "for theta in thetas:\n",
    "    \n",
    "    if theta>0 and theta<= np.pi/2:\n",
    "        x.append(0.5 * np.sin(theta))\n",
    "        y.append(0.5 * np.cos(theta))\n",
    "      \n",
    "    if thetas[i-1]<=np.pi/2 and theta>= np.pi/2:\n",
    "        print (\"El tiempo que se demora es \"+str(t[i]))\n",
    "        \n",
    "    i+=1"
   ]
  },
  {
   "cell_type": "code",
   "execution_count": 77,
   "metadata": {},
   "outputs": [
    {
     "data": {
      "text/plain": [
       "<matplotlib.collections.PathCollection at 0x7f7c98e60310>"
      ]
     },
     "execution_count": 77,
     "metadata": {},
     "output_type": "execute_result"
    },
    {
     "data": {
      "image/png": "[encoded data removed]",
      "text/plain": [
       "<Figure size 576x360 with 1 Axes>"
      ]
     },
     "metadata": {
      "needs_background": "light"
     },
     "output_type": "display_data"
    }
   ],
   "source": [
    "fig = plt.figure(figsize=(8,5))\n",
    "ax1 = fig.add_subplot(111)\n",
    "\n",
    "ax1.set_xlabel(\"x[m]\") \n",
    "ax1.set_ylabel(\"y[m]\") \n",
    "\n",
    "ax1.scatter(x,y)"
   ]
  },
  {
   "cell_type": "code",
   "execution_count": null,
   "metadata": {},
   "outputs": [],
   "source": []
  },
  {
   "cell_type": "code",
   "execution_count": null,
   "metadata": {},
   "outputs": [],
   "source": []
  }
 ],
 "metadata": {
  "kernelspec": {
   "display_name": "Python 3",
   "language": "python",
   "name": "python3"
  },
  "language_info": {
   "codemirror_mode": {
    "name": "ipython",
    "version": 3
   },
   "file_extension": ".py",
   "mimetype": "text/x-python",
   "name": "python",
   "nbconvert_exporter": "python",
   "pygments_lexer": "ipython3",
   "version": "3.8.3"
  }
 },
 "nbformat": 4,
 "nbformat_minor": 4
}
