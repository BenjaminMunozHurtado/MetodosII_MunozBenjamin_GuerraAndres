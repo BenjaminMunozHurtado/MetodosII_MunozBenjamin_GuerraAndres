{
 "cells": [
  {
   "cell_type": "code",
   "execution_count": 1,
   "metadata": {},
   "outputs": [],
   "source": [
    "import numpy as np\n",
    "import matplotlib.pyplot as plt"
   ]
  },
  {
   "cell_type": "code",
   "execution_count": 2,
   "metadata": {},
   "outputs": [],
   "source": [
    "def f(x,y):\n",
    "    return x + 2*y"
   ]
  },
  {
   "cell_type": "code",
   "execution_count": 3,
   "metadata": {},
   "outputs": [],
   "source": [
    "def Solucion(x):\n",
    "    return -0.5*x - (1-np.exp(2*x))/4."
   ]
  },
  {
   "cell_type": "code",
   "execution_count": 4,
   "metadata": {},
   "outputs": [],
   "source": [
    "t = np.linspace(0.,4.,100)"
   ]
  },
  {
   "cell_type": "code",
   "execution_count": 5,
   "metadata": {},
   "outputs": [],
   "source": [
    "y0=0"
   ]
  },
  {
   "cell_type": "code",
   "execution_count": 6,
   "metadata": {},
   "outputs": [],
   "source": [
    "yext = Solucion(t)"
   ]
  },
  {
   "cell_type": "code",
   "execution_count": 7,
   "metadata": {},
   "outputs": [],
   "source": [
    "def RungeKutta_4(f, x, y0):\n",
    "    \n",
    "    h = x[1] - x[0]\n",
    "    y = np.zeros_like(x)\n",
    "    y[0] = y0\n",
    "    \n",
    "    for i in range(1,len(x)):\n",
    "        k1 = h * f(x[i-1], y[i-1])\n",
    "        k2 = h * f(x[i-1] + 0.5 * h, y[i-1] + 0.5 * k1)\n",
    "        k3 = h * f(x[i-1] + 0.5 * h, y[i-1] + 0.5 * k2)\n",
    "        k4 = h * f(x[i-1] + h, y[i-1] + k3)\n",
    "        \n",
    "        y[i] = y[i-1] + (k1 + 2*k2 + 2*k3 + k4) / 6\n",
    "    \n",
    "    return y"
   ]
  },
  {
   "cell_type": "code",
   "execution_count": 8,
   "metadata": {},
   "outputs": [],
   "source": [
    "yrk4 = RungeKutta_4(f,t,y0)"
   ]
  },
  {
   "cell_type": "code",
   "execution_count": 9,
   "metadata": {},
   "outputs": [
    {
     "name": "stdout",
     "output_type": "stream",
     "text": [
      "[0.00000000e+00 8.38673759e-04 3.44819073e-03 7.97758999e-03\n",
      " 1.45884542e-02 2.34559651e-02 3.47700485e-02 4.87366146e-02\n",
      " 6.55789038e-02 8.55389450e-02 1.08879137e-01 1.35883962e-01\n",
      " 1.66861846e-01 2.02147173e-01 2.42102469e-01 2.87120772e-01\n",
      " 3.37628199e-01 3.94086729e-01 4.56997223e-01 5.26902697e-01\n",
      " 6.04391869e-01 6.90103002e-01 7.84728080e-01 8.89017325e-01\n",
      " 1.00378410e+00 1.12991023e+00 1.26835173e+00 1.42014512e+00\n",
      " 1.58641412e+00 1.76837703e+00 1.96735471e+00 2.18477916e+00\n",
      " 2.42220292e+00 2.68130917e+00 2.96392278e+00 3.27202220e+00\n",
      " 3.60775238e+00 3.97343880e+00 4.37160266e+00 4.80497736e+00\n",
      " 5.27652633e+00 5.78946243e+00 6.34726892e+00 6.95372220e+00\n",
      " 7.61291653e+00 8.32929075e+00 9.10765727e+00 9.95323354e+00\n",
      " 1.08716761e+01 1.18691176e+01 1.29522068e+01 1.41281521e+01\n",
      " 1.54047684e+01 1.67905286e+01 1.82946184e+01 1.99269969e+01\n",
      " 2.16984611e+01 2.36207170e+01 2.57064555e+01 2.79694358e+01\n",
      " 3.04245750e+01 3.30880459e+01 3.59773821e+01 3.91115931e+01\n",
      " 4.25112883e+01 4.61988115e+01 5.01983871e+01 5.45362785e+01\n",
      " 5.92409590e+01 6.43432988e+01 6.98767659e+01 7.58776452e+01\n",
      " 8.23852755e+01 8.94423062e+01 9.70949765e+01 1.05393417e+02\n",
      " 1.14391978e+02 1.24149582e+02 1.34730114e+02 1.46202833e+02\n",
      " 1.58642829e+02 1.72131509e+02 1.86757134e+02 2.02615393e+02\n",
      " 2.19810027e+02 2.38453509e+02 2.58667779e+02 2.80585038e+02\n",
      " 3.04348615e+02 3.30113901e+02 3.58049364e+02 3.88337655e+02\n",
      " 4.21176792e+02 4.56781462e+02 4.95384421e+02 5.37238012e+02\n",
      " 5.82615817e+02 6.31814445e+02 6.85155466e+02 7.42987516e+02]\n"
     ]
    }
   ],
   "source": [
    "print(yrk4)"
   ]
  },
  {
   "cell_type": "code",
   "execution_count": 29,
   "metadata": {},
   "outputs": [],
   "source": [
    "def GetAdams(f,x,yrk4):\n",
    "    \n",
    "    h = x[1] - x[0]\n",
    "    \n",
    "    y = yrk4.copy()\n",
    "    \n",
    "    yc = y.copy()\n",
    "    \n",
    "    for i in range(5,len(x)):\n",
    "        \n",
    "        y[i] = y[i-1] + (h/720)*((1901)*f(x[i-1],y[i-1]) - (2774)*f(x[i-2],y[i-2])+(2616)*f(x[i-3],y[i-3])-(1274)*f(x[i-4],y[i-4])+(251)*f(x[i-5],y[i-5]))\n",
    "        \n",
    "        yc[i] = y[i]\n",
    "        \n",
    "        yc[i] = yc[i-1] + (h/1440)*((475)*f(x[i],y[i])+(1427)*f(x[i-1],y[i-1]) - (798)*f(x[i-2],y[i-2])+(482)*f(x[i-3],y[i-3])-(173)*f(x[i-4],y[i-4])+(27)*f(x[i-5],y[i-5]))\n",
    "    \n",
    "    return yc"
   ]
  },
  {
   "cell_type": "code",
   "execution_count": 51,
   "metadata": {},
   "outputs": [],
   "source": [
    "ymoulton2 = GetAdams(f,t,yrk4)\n",
    "diferencia_y=np.abs(ymoulton2-yext)"
   ]
  },
  {
   "cell_type": "code",
   "execution_count": 63,
   "metadata": {},
   "outputs": [
    {
     "data": {
      "text/plain": [
       "<matplotlib.legend.Legend at 0x7fcd69a58d30>"
      ]
     },
     "execution_count": 63,
     "metadata": {},
     "output_type": "execute_result"
    },
    {
     "data": {
      "image/png": "[encoded data removed]",
      "text/plain": [
       "<Figure size 432x288 with 2 Axes>"
      ]
     },
     "metadata": {
      "needs_background": "light"
     },
     "output_type": "display_data"
    }
   ],
   "source": [
    "fig = plt.figure()\n",
    "ax = fig.add_subplot(2,1,1)\n",
    "ax1= fig.add_subplot(2,1,2)\n",
    "\n",
    "ax.set_yscale('log')\n",
    "ax1.set_yscale('log')\n",
    "\n",
    "ax.set_ylabel('y')\n",
    "ax1.set_ylabel('error y')\n",
    "\n",
    "ax.plot(t,yext,label='Exacta')\n",
    "ax.plot(t,ymoulton2,label='Adams Moulton')\n",
    "ax1.plot(t,diferencia_y,color='r',label=\"Error (diferencia entre exacta y adams moulton)\")\n",
    "\n",
    "plt.xlabel(\"t\")\n",
    "fig.legend()"
   ]
  },
  {
   "cell_type": "code",
   "execution_count": null,
   "metadata": {},
   "outputs": [],
   "source": []
  }
 ],
 "metadata": {
  "kernelspec": {
   "display_name": "Python 3",
   "language": "python",
   "name": "python3"
  },
  "language_info": {
   "codemirror_mode": {
    "name": "ipython",
    "version": 3
   },
   "file_extension": ".py",
   "mimetype": "text/x-python",
   "name": "python",
   "nbconvert_exporter": "python",
   "pygments_lexer": "ipython3",
   "version": "3.8.3"
  }
 },
 "nbformat": 4,
 "nbformat_minor": 4
}
