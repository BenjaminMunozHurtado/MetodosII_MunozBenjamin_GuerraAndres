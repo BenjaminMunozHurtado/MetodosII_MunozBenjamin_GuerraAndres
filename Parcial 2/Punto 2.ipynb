{
 "cells": [
  {
   "cell_type": "code",
   "execution_count": 1,
   "id": "70d3c5c2",
   "metadata": {},
   "outputs": [],
   "source": [
    "import numpy as np\n",
    "import matplotlib.pyplot as plt\n",
    "from scipy.integrate import odeint"
   ]
  },
  {
   "cell_type": "code",
   "execution_count": 2,
   "id": "5f450de5",
   "metadata": {},
   "outputs": [],
   "source": [
    "def f(N,t,La=0.5,Lb=0.3):\n",
    "    \n",
    "    A,B,C=N\n",
    "    \n",
    "    dnadt=-La*A\n",
    "    dnbdt=La*A-Lb*B\n",
    "    dncdt = Lb*B\n",
    "    return np.array([dnadt,dnbdt,dncdt])"
   ]
  },
  {
   "cell_type": "code",
   "execution_count": 3,
   "id": "b51a400e",
   "metadata": {},
   "outputs": [],
   "source": [
    "t = np.linspace(0,10,50)\n",
    "r0 = np.array([500,0,0])"
   ]
  },
  {
   "cell_type": "code",
   "execution_count": 4,
   "id": "33e22b13",
   "metadata": {
    "scrolled": true
   },
   "outputs": [
    {
     "name": "stdout",
     "output_type": "stream",
     "text": [
      "50\n"
     ]
    }
   ],
   "source": [
    "sol = odeint(f, r0, t, args=(1.3,))\n",
    "print(len(sol))"
   ]
  },
  {
   "cell_type": "code",
   "execution_count": 5,
   "id": "90186244",
   "metadata": {},
   "outputs": [
    {
     "data": {
      "text/plain": [
       "<matplotlib.collections.PathCollection at 0x24d40c7d4d0>"
      ]
     },
     "execution_count": 5,
     "metadata": {},
     "output_type": "execute_result"
    },
    {
     "data": {
      "image/png": "[encoded data removed]",
      "text/plain": [
       "<Figure size 640x480 with 1 Axes>"
      ]
     },
     "metadata": {},
     "output_type": "display_data"
    }
   ],
   "source": [
    "plt.scatter(t,sol[:,1],marker='.')"
   ]
  },
  {
   "cell_type": "code",
   "execution_count": 6,
   "id": "898367bd",
   "metadata": {},
   "outputs": [],
   "source": [
    "def Increment(f,r,t,h):\n",
    "    \n",
    "    state1 = np.array([r[0],r[1],r[2]])\n",
    "    K1 = f(state1,t)\n",
    "    \n",
    "    state2 = np.array([r[0]+0.5*h*K1[0],r[1]+0.5*h*K1[1],r[2]+0.5*h*K1[2]])\n",
    "    K2 = f(state2,t+0.5*h)\n",
    "    \n",
    "    state3 = np.array([r[0]+0.5*h*K2[0],r[1]+0.5*h*K2[1],r[2]+0.5*h*K2[2]])\n",
    "    K3 = f(state3,t+0.5*h)\n",
    "    \n",
    "    state4 = np.array([r[0]+h*K3[0],r[1]+h*K3[1],r[2]+h*K3[2]])\n",
    "    K4 = f(state4, t+h)\n",
    "    \n",
    "    Deltaf = h*(K1+2*K2+2*K3+K4)/6\n",
    "    \n",
    "    return r+Deltaf"
   ]
  },
  {
   "cell_type": "code",
   "execution_count": 7,
   "id": "30be47d1",
   "metadata": {},
   "outputs": [],
   "source": [
    "def Adaptativo(f,r0,t,e=1e-4):\n",
    "    \n",
    "    h = t[1] - t[0]\n",
    "    \n",
    "    tf = t[-1]\n",
    "    t = t[0]\n",
    "    \n",
    "    r = r0\n",
    "    \n",
    "    Time = np.array([t])\n",
    "    Vector = r\n",
    "    \n",
    "    Steps = np.array([h])\n",
    "\n",
    "    \n",
    "    \n",
    "    while t < tf:\n",
    "        \n",
    "        r1 = Increment(f,r,t,h)\n",
    "        r2 = Increment(f,r1,t+h,h)\n",
    "        rt = Increment(f,r,t,2*h)\n",
    "        \n",
    "       \n",
    "        error = np.linalg.norm( r2 - rt )\n",
    "\n",
    "        if error< e:\n",
    "            \n",
    "            \n",
    "            t+=2*h\n",
    "            r=rt\n",
    "            \n",
    "            #r = Increment(f,r,t,h)\n",
    "            \n",
    "            Steps = np.append(Steps,h)\n",
    "            Time = np.append(Time,t)\n",
    "            Vector = np.vstack((Vector,r))\n",
    "            \n",
    "            \n",
    "  \n",
    "        q= 0.85*((e/error)**(1/4))\n",
    "            \n",
    "        h=h*q\n",
    "            \n",
    "       \n",
    "        \n",
    "       \n",
    "    return Time,Vector,Steps"
   ]
  },
  {
   "cell_type": "code",
   "execution_count": 12,
   "id": "6d810136",
   "metadata": {},
   "outputs": [
    {
     "name": "stdout",
     "output_type": "stream",
     "text": [
      "38\n",
      "EL momento maximo de B es: 13  C en el momento de max B 121.0784558565119  A en el momento de max B 146.7295259199198\n"
     ]
    }
   ],
   "source": [
    "t1,x1,h1 = Adaptativo(f,r0,t)\n",
    "\n",
    "print(\"numero de pasos\":len(h1))\n",
    "mayor=0\n",
    "posicion=0\n",
    "for i in range(len(x1[:,1])):\n",
    "    if x1[:,1][i]>mayor:\n",
    "        mayor=x1[:,1][i]\n",
    "        posicion=i\n",
    "print(\"EL momento maximo de B es:\",posicion, \" C en el momento de max B\",x1[:,2][posicion],\" A en el momento de max B\",x1[:,0][posicion])\n"
   ]
  },
  {
   "cell_type": "code",
   "execution_count": 16,
   "id": "479850f8",
   "metadata": {},
   "outputs": [
    {
     "data": {
      "text/plain": [
       "<matplotlib.collections.PathCollection at 0x24d4718f8d0>"
      ]
     },
     "execution_count": 16,
     "metadata": {},
     "output_type": "execute_result"
    },
    {
     "data": {
      "image/png": "[encoded data removed]",
      "text/plain": [
       "<Figure size 640x480 with 1 Axes>"
      ]
     },
     "metadata": {},
     "output_type": "display_data"
    }
   ],
   "source": [
    "plt.scatter(sol[:,0],sol[:,2],marker='.')\n",
    "plt.scatter(x1[:,0],x1[:,2],marker='.')\n"
   ]
  },
  {
   "cell_type": "code",
   "execution_count": null,
   "id": "4e591bf5",
   "metadata": {},
   "outputs": [],
   "source": []
  },
  {
   "cell_type": "code",
   "execution_count": null,
   "id": "9bef959b",
   "metadata": {},
   "outputs": [],
   "source": []
  }
 ],
 "metadata": {
  "kernelspec": {
   "display_name": "Python 3 (ipykernel)",
   "language": "python",
   "name": "python3"
  },
  "language_info": {
   "codemirror_mode": {
    "name": "ipython",
    "version": 3
   },
   "file_extension": ".py",
   "mimetype": "text/x-python",
   "name": "python",
   "nbconvert_exporter": "python",
   "pygments_lexer": "ipython3",
   "version": "3.11.5"
  }
 },
 "nbformat": 4,
 "nbformat_minor": 5
}
