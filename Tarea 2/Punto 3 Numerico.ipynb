{
 "cells": [
  {
   "cell_type": "code",
   "execution_count": 1,
   "metadata": {},
   "outputs": [],
   "source": [
    "import numpy as np\n",
    "import matplotlib.pyplot as plt\n",
    "from scipy import integrate"
   ]
  },
  {
   "cell_type": "code",
   "execution_count": 2,
   "metadata": {},
   "outputs": [],
   "source": [
    "def f(x,y):\n",
    "    return (x*(y**2))-2*(y/x)-(1/(x**3))"
   ]
  },
  {
   "cell_type": "code",
   "execution_count": 3,
   "metadata": {},
   "outputs": [],
   "source": [
    "N = 1000\n",
    "x0=2**0.5\n",
    "t = np.linspace(x0,10,N)\n",
    "h=t[1]-t[0]\n",
    "y0=0"
   ]
  },
  {
   "cell_type": "code",
   "execution_count": null,
   "metadata": {},
   "outputs": [],
   "source": []
  },
  {
   "cell_type": "code",
   "execution_count": 14,
   "metadata": {},
   "outputs": [],
   "source": [
    "def GetEuler(f,x,y0):\n",
    "    \n",
    "    h = x[1] - x[0]\n",
    "    \n",
    "    y = np.zeros_like(x)\n",
    "    y[0] = y0\n",
    "    \n",
    "    for i in range(1,len(x)):\n",
    "        k1 = f(x[i-1],y[i-1])\n",
    "        y[i] = y[i-1]+h*k1\n",
    "        \n",
    "    return y"
   ]
  },
  {
   "cell_type": "code",
   "execution_count": null,
   "metadata": {},
   "outputs": [],
   "source": []
  },
  {
   "cell_type": "code",
   "execution_count": 16,
   "metadata": {},
   "outputs": [],
   "source": [
    "def GetAdams(f,x,yrk1):\n",
    "    \n",
    "    h = x[1] - x[0]\n",
    "    \n",
    "    y = yrk1.copy()\n",
    "    \n",
    "    yc = y.copy()\n",
    "    \n",
    "    for i in range(1,len(x)):\n",
    "        \n",
    "        y[i] = y[i-1] + 0.5*h*( 3*f(x[i-1],y[i-1]) - f(x[i-2],y[i-2]) )\n",
    "        \n",
    "        yc[i] = y[i]\n",
    "        \n",
    "        yc[i] = yc[i-1] + 0.5*h*( f(x[i],y[i]) +  f(x[i-1],y[i-1]) )\n",
    "        \n",
    "    \n",
    "    return yc"
   ]
  },
  {
   "cell_type": "code",
   "execution_count": 7,
   "metadata": {},
   "outputs": [],
   "source": [
    "ymoulton2 = GetAdams(f,t,yrk1)\n"
   ]
  },
  {
   "cell_type": "code",
   "execution_count": 10,
   "metadata": {},
   "outputs": [
    {
     "data": {
      "text/plain": [
       "<matplotlib.legend.Legend at 0x7fcd980e5f40>"
      ]
     },
     "execution_count": 10,
     "metadata": {},
     "output_type": "execute_result"
    },
    {
     "data": {
      "image/png": "[encoded data removed]",
      "text/plain": [
       "<Figure size 576x360 with 1 Axes>"
      ]
     },
     "metadata": {
      "needs_background": "light"
     },
     "output_type": "display_data"
    }
   ],
   "source": [
    "fig1=plt.figure(figsize=(8,5))\n",
    "ax1 = fig1.add_subplot(111)\n",
    "\n",
    "ax1.plot(t,ymoulton2,label=\"Adams-Moulton\")\n",
    "plt.legend()"
   ]
  },
  {
   "cell_type": "code",
   "execution_count": 9,
   "metadata": {},
   "outputs": [],
   "source": []
  },
  {
   "cell_type": "code",
   "execution_count": null,
   "metadata": {},
   "outputs": [],
   "source": []
  }
 ],
 "metadata": {
  "kernelspec": {
   "display_name": "Python 3",
   "language": "python",
   "name": "python3"
  },
  "language_info": {
   "codemirror_mode": {
    "name": "ipython",
    "version": 3
   },
   "file_extension": ".py",
   "mimetype": "text/x-python",
   "name": "python",
   "nbconvert_exporter": "python",
   "pygments_lexer": "ipython3",
   "version": "3.8.3"
  }
 },
 "nbformat": 4,
 "nbformat_minor": 4
}
