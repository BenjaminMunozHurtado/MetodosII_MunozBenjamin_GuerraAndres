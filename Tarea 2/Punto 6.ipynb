{
 "cells": [
  {
   "cell_type": "code",
   "execution_count": 1,
   "id": "c2a6c9c3",
   "metadata": {
    "id": "c2a6c9c3"
   },
   "outputs": [],
   "source": [
    "#%matplotlib notebook\n",
    "%matplotlib inline\n",
    "import numpy as np\n",
    "import matplotlib.pyplot as plt\n",
    "import matplotlib.animation as anim\n",
    "from tqdm import tqdm"
   ]
  },
  {
   "cell_type": "code",
   "execution_count": 2,
   "id": "9b8d16cf",
   "metadata": {
    "id": "9b8d16cf"
   },
   "outputs": [],
   "source": [
    "class Planeta:\n",
    "\n",
    "    def __init__(self, e, a, t,alpha=1.1e-8):\n",
    "\n",
    "        self.t = t\n",
    "        self.dt = t[1] - t[0] # Paso del tiempo\n",
    "\n",
    "        self.e = e # Excentricidad\n",
    "        self.a_ = a # Semi-eje mayor\n",
    "\n",
    "        self.G = 4*np.pi**2 # Unidades gaussianas\n",
    "        \n",
    "        self.r = np.zeros(3)\n",
    "        self.v = np.zeros_like(self.r)\n",
    "        self.a = np.zeros_like(self.r)\n",
    "\n",
    "        self.r[0] = self.a_*(1+self.e)\n",
    "        self.v[1] = np.sqrt( self.G*(1-self.e)/(self.a_*(1.+self.e)) )\n",
    "\n",
    "        self.R = np.zeros((len(t),len(self.r)))\n",
    "        self.V = np.zeros_like(self.R)\n",
    "\n",
    "        # El valor del pasado\n",
    "        self.rp = self.r\n",
    "\n",
    "    def GetAceleration(self,alpha=1.1e-8):\n",
    "\n",
    "        d = np.linalg.norm(self.r)\n",
    "        self.a = (-self.G/d**3)*(1+(alpha/d**2))*self.r\n",
    "\n",
    "\n",
    "    def Evolution(self,i,alpha=1.1e-8):\n",
    "\n",
    "        self.SetPosition(i)\n",
    "        self.SetVelocity(i)\n",
    "        self.GetAceleration()\n",
    "\n",
    "        if i==0:\n",
    "            self.r = self.rp + self.v*self.dt\n",
    "        else:\n",
    "\n",
    "            # rp pasado, r presente rf futuro\n",
    "            self.rf = self.r + (self.v*self.dt) + (0.5 * self.a * self.dt**2)\n",
    "            \n",
    "            d = np.linalg.norm(self.rf)\n",
    "            self.af = (-self.G/d**3)*(1+(alpha/d**2))*self.rf\n",
    "        \n",
    "            self.v = self.v +((self.dt/2)*(self.af+self.a))\n",
    "\n",
    "            self.rp = self.r\n",
    "            self.r = self.rf\n",
    "            \n",
    "\n",
    "    def SetPosition(self,i):\n",
    "        self.R[i] = self.r\n",
    "\n",
    "    def SetVelocity(self,i):\n",
    "        self.V[i] = self.v\n",
    "\n",
    "    def GetPosition(self,scale=1):\n",
    "        return self.R[::scale]\n",
    "\n",
    "    def GetVelocity(self,scale=1):\n",
    "        return self.V[::scale]\n",
    "\n",
    "    def GetPeriodo(self):\n",
    "\n",
    "        Dist = np.linalg.norm(self.R,axis=1)\n",
    "\n",
    "        timeup = []\n",
    "        conteo =0\n",
    "        periodo=[]\n",
    "\n",
    "\n",
    "        for i in range(1,len(Dist)-1):\n",
    "            conteo+=1\n",
    "            if Dist[i] < Dist[i-1] and Dist[i] < Dist[i+1]:\n",
    "                timeup.append(self.t[i])\n",
    "\n",
    "                periodo.append(conteo)\n",
    "                \n",
    "\n",
    "        return periodo"
   ]
  },
  {
   "cell_type": "code",
   "execution_count": 3,
   "id": "0c7e9096",
   "metadata": {
    "id": "0c7e9096"
   },
   "outputs": [],
   "source": [
    "def GetPlanetas(t):\n",
    "\n",
    "    Mercurio = Planeta(0.205630,0.387098,t)\n",
    "    \n",
    "\n",
    "    return [Mercurio]"
   ]
  },
  {
   "cell_type": "code",
   "execution_count": 4,
   "id": "283c7579",
   "metadata": {
    "id": "283c7579"
   },
   "outputs": [],
   "source": [
    "dt = 0.001\n",
    "tmax = 2.4\n",
    "t = np.arange(0.,tmax,dt)\n",
    "Planetas = GetPlanetas(t)"
   ]
  },
  {
   "cell_type": "code",
   "execution_count": 5,
   "id": "7492fd6d",
   "metadata": {
    "id": "7492fd6d"
   },
   "outputs": [],
   "source": [
    "def RunSimulation(t,Planetas):\n",
    "\n",
    "    for it in tqdm(range(len(t)), desc='Running simulation', unit=' Steps' ):\n",
    "\n",
    "        #print(it)\n",
    "        for i in range(len(Planetas)):\n",
    "            Planetas[i].Evolution(it)\n",
    "            # Aca debes agregar la interaccion con la pared\n",
    "\n",
    "\n",
    "    return Planetas"
   ]
  },
  {
   "cell_type": "code",
   "execution_count": 6,
   "id": "499c44e7",
   "metadata": {
    "colab": {
     "base_uri": "https://localhost:8080/"
    },
    "id": "499c44e7",
    "outputId": "c608077c-1627-48b5-ed65-d325d7a2aa58",
    "scrolled": true
   },
   "outputs": [
    {
     "name": "stderr",
     "output_type": "stream",
     "text": [
      "Running simulation: 100%|██████████| 2400/2400 [00:00<00:00, 43637.45 Steps/s]\n"
     ]
    }
   ],
   "source": [
    "Planetas = RunSimulation(t,Planetas)\n"
   ]
  },
  {
   "cell_type": "code",
   "execution_count": 7,
   "id": "ab6fced9",
   "metadata": {
    "id": "ab6fced9"
   },
   "outputs": [],
   "source": [
    "scale = 20\n",
    "t1 = t[::scale]\n"
   ]
  },
  {
   "cell_type": "code",
   "execution_count": 8,
   "id": "2f0fc64e",
   "metadata": {
    "id": "2f0fc64e"
   },
   "outputs": [],
   "source": [
    "def Longitud_heliocentrica(mercurio):\n",
    "    posiciones = mercurio.GetPeriodo()\n",
    " \n",
    "    arcos = []\n",
    "    tiempos = []\n",
    "    for i in posiciones:\n",
    "        \n",
    "        distancia = mercurio.GetPosition()[i]\n",
    "        \n",
    "       \n",
    "        angulo_rad = np.arctan2(abs(distancia[1]),abs (distancia[0]))\n",
    "        angulo_deg = 2* np.degrees(angulo_rad)*3600\n",
    "        \n",
    "        arcos.append(angulo_deg)\n",
    "        \n",
    "       \n",
    "        tiempo_siglos = float(2 * i *0.001)\n",
    "        tiempos.append(tiempo_siglos)\n",
    "    return [arcos, tiempos]\n",
    "\n",
    " \n",
    "tiempo=Longitud_heliocentrica(Planetas[0])[0]\n",
    "arcos=Longitud_heliocentrica(Planetas[0])[1]"
   ]
  },
  {
   "cell_type": "code",
   "execution_count": 14,
   "id": "fe6ff647",
   "metadata": {
    "scrolled": false
   },
   "outputs": [
    {
     "data": {
      "image/png": "[encoded data removed]",
      "text/plain": [
       "<Figure size 640x480 with 1 Axes>"
      ]
     },
     "metadata": {},
     "output_type": "display_data"
    }
   ],
   "source": [
    "\n",
    "plt.scatter(arcos,tiempo)\n",
    "\n",
    "plt.xticks([0.5,1, 1.5, 2, 2.5, 3, 3.5, 4, 4.5, 5])\n",
    "plt.ticklabel_format(style='sci', axis='y', scilimits=(0,0))\n",
    "plt.xlabel(\"Tiempo en años\")\n",
    "plt.ylabel(\"Grados\")\n",
    "\n",
    "plt.show()"
   ]
  },
  {
   "cell_type": "code",
   "execution_count": 10,
   "id": "c00d2be5",
   "metadata": {
    "colab": {
     "base_uri": "https://localhost:8080/",
     "height": 17
    },
    "id": "c00d2be5",
    "outputId": "62c745ea-f6b9-4e5b-ebe8-07cac72bd848"
   },
   "outputs": [
    {
     "data": {
      "image/png": "[encoded data removed]",
      "text/plain": [
       "<Figure size 800x500 with 3 Axes>"
      ]
     },
     "metadata": {},
     "output_type": "display_data"
    }
   ],
   "source": [
    "fig = plt.figure(figsize=(8,5))\n",
    "ax = fig.add_subplot(221,projection='3d')\n",
    "ax1 = fig.add_subplot(222)\n",
    "ax2 = fig.add_subplot(223)\n",
    "\n",
    "colors=['grey']\n",
    "\n",
    "def init():\n",
    "\n",
    "    ax.clear()\n",
    "    ax.set_xlim(-1,1)\n",
    "    ax.set_ylim(-1,1)\n",
    "    ax.set_zlim(-1,1)\n",
    "\n",
    "    ax1.clear()\n",
    "    ax1.set_xlim(-1,1)\n",
    "    ax1.set_ylim(-1,1)\n",
    "\n",
    "    ax2.clear()\n",
    "    ax2.set_xlim(-2,2)\n",
    "    ax2.set_ylim(-2,2)\n",
    "\n",
    "def Update(i):\n",
    "\n",
    "    init()\n",
    "\n",
    "    for j, p in enumerate(Planetas):\n",
    "\n",
    "        x = p.GetPosition(scale)[i,0]\n",
    "        y = p.GetPosition(scale)[i,1]\n",
    "        z = p.GetPosition(scale)[i,2]\n",
    "\n",
    "        vx = p.GetVelocity(scale)[i,0]\n",
    "        vy = p.GetVelocity(scale)[i,1]\n",
    "        vz = p.GetVelocity(scale)[i,2]\n",
    "\n",
    "        ax.scatter(0,0,0,s=200,color='y')\n",
    "        ax.quiver(x,y,z,vx,vy,vz,color=colors[j],length=0.03)\n",
    "\n",
    "        ax.scatter(x,y,z,color=colors[j])\n",
    "\n",
    "        circle = plt.Circle((x,y),0.1,color=colors[j],fill=True)\n",
    "        ax1.add_patch(circle)\n",
    "\n",
    "\n",
    "Animation = anim.FuncAnimation(fig,Update,frames=len(t1),init_func=init)"
   ]
  },
  {
   "cell_type": "code",
   "execution_count": null,
   "id": "e2a1e217",
   "metadata": {
    "colab": {
     "base_uri": "https://localhost:8080/",
     "height": 504
    },
    "id": "e2a1e217",
    "outputId": "8f51c37a-e777-4822-e8c1-0c1cf3035772"
   },
   "outputs": [],
   "source": []
  },
  {
   "cell_type": "code",
   "execution_count": null,
   "id": "644ffda6",
   "metadata": {
    "id": "644ffda6"
   },
   "outputs": [],
   "source": []
  },
  {
   "cell_type": "code",
   "execution_count": null,
   "id": "8d212296",
   "metadata": {},
   "outputs": [],
   "source": []
  }
 ],
 "metadata": {
  "colab": {
   "provenance": []
  },
  "kernelspec": {
   "display_name": "Python 3 (ipykernel)",
   "language": "python",
   "name": "python3"
  },
  "language_info": {
   "codemirror_mode": {
    "name": "ipython",
    "version": 3
   },
   "file_extension": ".py",
   "mimetype": "text/x-python",
   "name": "python",
   "nbconvert_exporter": "python",
   "pygments_lexer": "ipython3",
   "version": "3.11.5"
  }
 },
 "nbformat": 4,
 "nbformat_minor": 5
}
