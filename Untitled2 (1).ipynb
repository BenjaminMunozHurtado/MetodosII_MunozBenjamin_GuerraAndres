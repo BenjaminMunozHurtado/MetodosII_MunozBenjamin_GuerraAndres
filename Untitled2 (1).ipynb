{
 "cells": [
  {
   "cell_type": "code",
   "execution_count": 1,
   "id": "ac2bbe5a",
   "metadata": {},
   "outputs": [],
   "source": [
    "import numpy as np\n",
    "import matplotlib.pyplot as plt\n",
    "from scipy.integrate import odeint"
   ]
  },
  {
   "cell_type": "code",
   "execution_count": 2,
   "id": "ef0eb88c",
   "metadata": {},
   "outputs": [],
   "source": [
    "def f(L,t,mu=(0.07349e24/5.9736e24),G=6.67e-11,mt=5.9736e24,d=3.844e8,w=2.6617e-6):\n",
    "    r,phi,pr,pp=L\n",
    "\n",
    "    drdt= pr\n",
    "    dphidt= pp/r**2\n",
    "    dprdt=((pp**2)/r**3)-(((G*mt/d**3))*((1/r**2)+(mu/(1+(r**2)-2*r*np.cos(phi-w*t))**(3/2))*(r-np.cos(phi-w*t))))\n",
    "    dppdt=-(G*mt/d**3)*(mu*r/(1+(r**2)-2*r*np.cos(phi-w*t))**3/2)*np.sin(phi-w*t)            \n",
    "    return np.array([drdt,dphidt,dprdt,dppdt])\n"
   ]
  },
  {
   "cell_type": "code",
   "execution_count": 3,
   "id": "06842a75",
   "metadata": {},
   "outputs": [],
   "source": [
    "\n",
    "t = np.arange(0,259200,1)\n",
    "\n",
    "V=np.linalg.norm(np.array([11000*np.cos(2.09),11000*np.sin(2.09)]))\n",
    "\n",
    "phi0=0.5\n",
    "pr0=V*np.cos(2.09-phi0)\n",
    "pp0=(6.3781e6/3.844e8)*V*np.sin(2.09-phi0)\n",
    "\n",
    "r0=np.array([6.3781e6,phi0,pr0,pp0])\n",
    "\n",
    "sol = odeint(f, r0, t, args=(1.3,))"
   ]
  },
  {
   "cell_type": "code",
   "execution_count": 4,
   "id": "1b6c0c9d",
   "metadata": {},
   "outputs": [
    {
     "data": {
      "text/plain": [
       "<matplotlib.collections.PathCollection at 0x1ba15fd7950>"
      ]
     },
     "execution_count": 4,
     "metadata": {},
     "output_type": "execute_result"
    },
    {
     "data": {
      "image/png": "[encoded data removed]",
      "text/plain": [
       "<Figure size 640x480 with 1 Axes>"
      ]
     },
     "metadata": {},
     "output_type": "display_data"
    }
   ],
   "source": [
    "plt.scatter(t,sol[:,0],marker='.')"
   ]
  },
  {
   "cell_type": "code",
   "execution_count": 5,
   "id": "30257700",
   "metadata": {},
   "outputs": [],
   "source": [
    "def Increment(f,r,t,h):\n",
    "    \n",
    "    state1 = np.array([r[0],r[1],r[2],r[3]])\n",
    "    K1 = f(state1,t)\n",
    "    \n",
    "    state2 = np.array([r[0]+0.5*h*K1[0],r[1]+0.5*h*K1[1],r[2]+0.5*h*K1[2],r[3]+0.5*h*K1[3]])\n",
    "    K2 = f(state2,t+0.5*h)\n",
    "    \n",
    "    state3 = np.array([r[0]+0.5*h*K2[0],r[1]+0.5*h*K2[1],r[2]+0.5*h*K2[2],r[3]+0.5*h*K2[3]])\n",
    "    K3 = f(state3,t+0.5*h)\n",
    "    \n",
    "    state4 = np.array([r[0]+h*K3[0],r[1]+h*K3[1],r[2]+h*K3[2],r[3]+h*K3[3]])\n",
    "    K4 = f(state4, t+h)\n",
    "    \n",
    "    Deltaf = h*(K1+2*K2+2*K3+K4)/6\n",
    "    \n",
    "    return r+Deltaf"
   ]
  },
  {
   "cell_type": "code",
   "execution_count": 6,
   "id": "ad2ea14a",
   "metadata": {},
   "outputs": [],
   "source": [
    "def Adaptativo(f, r0, t):\n",
    "    \"\"\"\n",
    "    Función para realizar integración adaptativa utilizando el método de Runge-Kutta de cuarto orden.\n",
    "    \"\"\"\n",
    "    h = t[1] - t[0]\n",
    "    tf = t[-1]\n",
    "    t = t[0]\n",
    "    r = r0\n",
    "    \n",
    "    Time = np.array([t])\n",
    "    Vector = r\n",
    "    \n",
    "    Steps = np.array([h])\n",
    "    tolerancia = h ** 5\n",
    "    \n",
    "    while t < tf:\n",
    "        Delta1 = Increment(f, r, t, h)\n",
    "        Delta2 = Increment(f, r, t, 0.5 * h)\n",
    "        \n",
    "        error = 16 * (np.abs(Delta2 - Delta1)) / 15\n",
    "        error_max = np.max(error)\n",
    "        tolerancia_max = np.max(tolerancia)\n",
    "        s = max([(error_max / tolerancia_max) * 0.2, 1e-8])\n",
    "        \n",
    "        hmax = h / s\n",
    "        \n",
    "        if s > 2:\n",
    "            h = hmax\n",
    "            t += h\n",
    "            Delta1 = Increment(f, r, t, h)\n",
    "            Delta2 = Increment(f, r, t, 0.5 * h)\n",
    "        elif s < 2:\n",
    "            t += h\n",
    "            r += Delta2\n",
    "        if h < hmax:\n",
    "            h = 2 * h\n",
    "        \n",
    "        r += Delta1\n",
    "        \n",
    "        Steps = np.append(Steps, h)\n",
    "        Time = np.append(Time, t)\n",
    "        Vector = np.vstack((Vector, r))\n",
    "    \n",
    "    return Time, Steps, Vector"
   ]
  },
  {
   "cell_type": "code",
   "execution_count": 7,
   "id": "6ab010a9",
   "metadata": {},
   "outputs": [],
   "source": [
    "def Error(delta1,delta2):\n",
    "    error=[]\n",
    "  \n",
    "    for i in range(4):\n",
    "        e=16*(abs(delta2[i]-delta1[i]))/15\n",
    "        error.append(e)\n",
    "    return error\n",
    "    "
   ]
  },
  {
   "cell_type": "code",
   "execution_count": null,
   "id": "21e739cd",
   "metadata": {},
   "outputs": [
    {
     "name": "stderr",
     "output_type": "stream",
     "text": [
      "C:\\Users\\Corsair PC.DESKTOP-0THQH30\\AppData\\Local\\Temp\\ipykernel_7464\\3345194177.py:7: RuntimeWarning: overflow encountered in scalar power\n",
      "  dppdt=-(G*mt/d**3)*(mu*r/(1+(r**2)-2*r*np.cos(phi-w*t))**3/2)*np.sin(phi-w*t)\n",
      "C:\\Users\\Corsair PC.DESKTOP-0THQH30\\AppData\\Local\\Temp\\ipykernel_7464\\3345194177.py:6: RuntimeWarning: overflow encountered in scalar power\n",
      "  dprdt=((pp**2)/r**3)-(((G*mt/d**3))*((1/r**2)+(mu/(1+(r**2)-2*r*np.cos(phi-w*t))**(3/2))*(r-np.cos(phi-w*t))))\n",
      "C:\\Users\\Corsair PC.DESKTOP-0THQH30\\AppData\\Local\\Temp\\ipykernel_7464\\3345194177.py:5: RuntimeWarning: overflow encountered in scalar power\n",
      "  dphidt= pp/r**2\n",
      "C:\\Users\\Corsair PC.DESKTOP-0THQH30\\AppData\\Local\\Temp\\ipykernel_7464\\3345194177.py:6: RuntimeWarning: invalid value encountered in scalar divide\n",
      "  dprdt=((pp**2)/r**3)-(((G*mt/d**3))*((1/r**2)+(mu/(1+(r**2)-2*r*np.cos(phi-w*t))**(3/2))*(r-np.cos(phi-w*t))))\n"
     ]
    }
   ],
   "source": [
    "soll=Adaptativo(f,r0,t)\n",
    "t1=np.arange(len(soll[1][:,1]))\n",
    "\n",
    "plt.scatter(t1,soll[1][:,1],marker='.')"
   ]
  },
  {
   "cell_type": "code",
   "execution_count": null,
   "id": "1e22af13",
   "metadata": {},
   "outputs": [],
   "source": []
  },
  {
   "cell_type": "code",
   "execution_count": null,
   "id": "51e5c914",
   "metadata": {},
   "outputs": [],
   "source": []
  },
  {
   "cell_type": "code",
   "execution_count": null,
   "id": "1b06c051",
   "metadata": {},
   "outputs": [],
   "source": []
  },
  {
   "cell_type": "code",
   "execution_count": null,
   "id": "8337348f",
   "metadata": {},
   "outputs": [],
   "source": []
  },
  {
   "cell_type": "code",
   "execution_count": null,
   "id": "9577ce6a",
   "metadata": {},
   "outputs": [],
   "source": []
  }
 ],
 "metadata": {
  "kernelspec": {
   "display_name": "Python 3 (ipykernel)",
   "language": "python",
   "name": "python3"
  },
  "language_info": {
   "codemirror_mode": {
    "name": "ipython",
    "version": 3
   },
   "file_extension": ".py",
   "mimetype": "text/x-python",
   "name": "python",
   "nbconvert_exporter": "python",
   "pygments_lexer": "ipython3",
   "version": "3.11.5"
  }
 },
 "nbformat": 4,
 "nbformat_minor": 5
}
